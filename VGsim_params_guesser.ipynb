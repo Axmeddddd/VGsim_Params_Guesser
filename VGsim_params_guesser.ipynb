{
  "nbformat": 4,
  "nbformat_minor": 0,
  "metadata": {
    "colab": {
      "name": "VGsim_params_guesser",
      "provenance": [],
      "collapsed_sections": [],
      "authorship_tag": "ABX9TyNHTffcPMQbjoTNtium/F9L",
      "include_colab_link": true
    },
    "kernelspec": {
      "name": "python3",
      "display_name": "Python 3"
    },
    "language_info": {
      "name": "python"
    }
  },
  "cells": [
    {
      "cell_type": "markdown",
      "metadata": {
        "id": "view-in-github",
        "colab_type": "text"
      },
      "source": [
        "<a href=\"https://colab.research.google.com/github/Axmeddddd/VGsim_Params_Guesser/blob/main/VGsim_params_guesser.ipynb\" target=\"_parent\"><img src=\"https://colab.research.google.com/assets/colab-badge.svg\" alt=\"Open In Colab\"/></a>"
      ]
    },
    {
      "cell_type": "markdown",
      "source": [
        "**Some basic imports**"
      ],
      "metadata": {
        "id": "2YG0DkAz1dEX"
      }
    },
    {
      "cell_type": "code",
      "metadata": {
        "id": "JOHc8uMtyhT1"
      },
      "source": [
        "import pandas as pd\n",
        "import torch\n",
        "import torch.nn as nn"
      ],
      "execution_count": null,
      "outputs": []
    },
    {
      "cell_type": "markdown",
      "source": [
        "**Creating a neural network architecture with 3 fully connected layers and hyperbolic tangent activation function**"
      ],
      "metadata": {
        "id": "hx_g1cHw1h3A"
      }
    },
    {
      "cell_type": "code",
      "metadata": {
        "id": "TXLlFMtdyivd"
      },
      "source": [
        "class Params_Guesser(nn.Module):\n",
        "\n",
        "  def __init__(self):\n",
        "    super(Params_Predictor, self).__init__()\n",
        "    self.fc1 = nn.Linear(29, 841)\n",
        "    self.fc2 = nn.Linear(841, 841)\n",
        "    self.fc3 = nn.Linear(841, 2)\n",
        "    self.act = nn.Tanh()\n",
        "\n",
        "  def forward(self, input):\n",
        "    output = self.fc1(input)\n",
        "    output = self.act(output)\n",
        "    output = self.fc2(output)\n",
        "    output = self.act(output)\n",
        "    output = self.fc3(output)\n",
        "    return output"
      ],
      "execution_count": null,
      "outputs": []
    },
    {
      "cell_type": "markdown",
      "source": [
        "**Converting csv file into pd.Dataframe and then normalize all the values in that table**"
      ],
      "metadata": {
        "id": "Vooybqgj28Ne"
      }
    },
    {
      "cell_type": "code",
      "metadata": {
        "id": "PD9qio5byyNQ"
      },
      "source": [
        "df = pd.read_csv('samples.csv')\n",
        "\n",
        "df = (df-df.min())/(df.max()-df.min())"
      ],
      "execution_count": null,
      "outputs": []
    },
    {
      "cell_type": "markdown",
      "source": [
        "**Training the neural network by SGD algorithm with learning rate of 0.005, 100 epochs and a batch size equal to one pd.Series length**"
      ],
      "metadata": {
        "id": "yUWgKlRZ30tu"
      }
    },
    {
      "cell_type": "code",
      "metadata": {
        "id": "diS5RQOHjfhQ",
        "colab": {
          "base_uri": "https://localhost:8080/"
        },
        "outputId": "fdd111fc-37c9-489d-d542-fe9714a4b974"
      },
      "source": [
        "model = Params_Guesser()\n",
        "optimizer_model = torch.optim.SGD(model.parameters(), lr=0.005)\n",
        "criterion_model = nn.MSELoss()\n",
        "\n",
        "for epoch in range(100):\n",
        "  total_loss = []\n",
        "  for batch in range(4074):\n",
        "    input = torch.tensor(df.iloc[batch, : 29], dtype=torch.float).view(1, 29)\n",
        "    target = torch.tensor(df.iloc[batch, -2 : ], dtype=torch.float).view(1, 2)\n",
        "    optimizer_model.zero_grad()                                                 # nulling the gradient on each iteration\n",
        "    outputs = model(input)\n",
        "    loss = criterion_model(outputs, target)\n",
        "    total_loss.append(loss.item())\n",
        "    loss.backward()                                                             # gradient calculating\n",
        "    optimizer_model.step()                                                      # changing of weights\n",
        "  total_loss = sum(total_loss) / 4074\n",
        "  print(total_loss)"
      ],
      "execution_count": null,
      "outputs": [
        {
          "output_type": "stream",
          "name": "stdout",
          "text": [
            "0.013973150977881576\n",
            "0.014896380411434396\n",
            "0.014626329139642288\n",
            "0.015167412551672763\n",
            "0.01563398867926582\n",
            "0.015996430963484083\n",
            "0.01630884012104358\n",
            "0.016593796470374338\n",
            "0.016857576224546075\n",
            "0.01710134990007989\n",
            "0.01732495538886138\n",
            "0.017527954060938294\n",
            "0.017709885806883405\n",
            "0.017870279611308798\n",
            "0.018008641378662444\n",
            "0.018124431397114622\n",
            "0.0182170867398214\n",
            "0.01828608742435793\n",
            "0.018331093052652726\n",
            "0.018352131750210037\n",
            "0.018349844794030203\n",
            "0.01832572399651664\n",
            "0.018282294399406207\n",
            "0.018223135125761156\n",
            "0.018152716230052497\n",
            "0.018076001074552178\n",
            "0.01799793886120085\n",
            "0.017922908755705964\n",
            "0.01785428037921532\n",
            "0.0177941686745848\n",
            "0.017743401044154308\n",
            "0.017701667176300225\n",
            "0.017667765980972562\n",
            "0.01763991618864639\n",
            "0.017616040940269626\n",
            "0.017594011781551504\n",
            "0.017571835183170587\n",
            "0.017547777903420204\n",
            "0.017520441520637503\n",
            "0.017488796793762484\n",
            "0.017452180977830967\n",
            "0.01741025802468999\n",
            "0.017362991598207034\n",
            "0.01731058297514258\n",
            "0.017253420593323573\n",
            "0.01719202879559056\n",
            "0.01712704051926017\n",
            "0.017059166475528877\n",
            "0.016989173795398053\n",
            "0.016917877913654414\n",
            "0.016846148078083524\n",
            "0.01677488734469852\n",
            "0.016705018806562465\n",
            "0.01663747451963746\n",
            "0.016573147345215717\n",
            "0.016512884226806208\n",
            "0.016457408805373046\n",
            "0.01640732524450469\n",
            "0.016363082809859587\n",
            "0.016324961484792674\n",
            "0.016293096871093458\n",
            "0.01626745214486828\n",
            "0.016247897493604252\n",
            "0.016234217155285086\n",
            "0.016226149913331427\n",
            "0.01622342051521508\n",
            "0.016225757206628957\n",
            "0.016232897991392162\n",
            "0.016244614436362832\n",
            "0.016260677689979824\n",
            "0.016280891022865982\n",
            "0.01630505608737673\n",
            "0.01633296746582148\n",
            "0.016364400365202324\n",
            "0.016399119947389542\n",
            "0.01643685773068159\n",
            "0.016477327331573564\n",
            "0.0165202430998794\n",
            "0.016565291515052007\n",
            "0.016612149625946454\n",
            "0.016660514831808526\n",
            "0.016710074760064298\n",
            "0.01676053226614479\n",
            "0.01681159857627346\n",
            "0.016863021767791014\n",
            "0.01691456028160468\n",
            "0.01696599640550673\n",
            "0.017017125425175278\n",
            "0.017067780352925298\n",
            "0.017117810151715852\n",
            "0.01716708400205812\n",
            "0.017215487748760545\n",
            "0.01726293792104579\n",
            "0.01730935161951167\n",
            "0.01735468024955078\n",
            "0.01739887320241265\n",
            "0.017441912139599867\n",
            "0.01748376547715835\n",
            "0.017524439731074468\n",
            "0.017563925102973384\n"
          ]
        }
      ]
    },
    {
      "cell_type": "markdown",
      "source": [
        "**We've got trained model with final absolute error = 0.017563925102973384 and a relative error about 1-2%. Very good! Then we save weights of our network into .ptr file**"
      ],
      "metadata": {
        "id": "utadvCo44dRc"
      }
    },
    {
      "cell_type": "code",
      "metadata": {
        "id": "4EwT-cbRN2bN"
      },
      "source": [
        "torch.save(model.state_dict(), \"params_predictor.ptr\")"
      ],
      "execution_count": null,
      "outputs": []
    }
  ]
}